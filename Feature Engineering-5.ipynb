{
 "cells": [
  {
   "cell_type": "markdown",
   "id": "ff210257-7961-4eeb-a3c1-4299ab31a2c3",
   "metadata": {},
   "source": [
    "## Feature Engineering-5"
   ]
  },
  {
   "cell_type": "markdown",
   "id": "599c5d4f-c96a-467f-be87-47c3ef4569e3",
   "metadata": {},
   "source": [
    "# Assignment Questions"
   ]
  },
  {
   "cell_type": "raw",
   "id": "1985ecd9-5d02-49ca-976e-1277c0ae3638",
   "metadata": {},
   "source": [
    "Q1. What is the difference between Ordinal Encoding and Label Encoding? Provide an example of when you\n",
    "might choose one over the other."
   ]
  },
  {
   "cell_type": "markdown",
   "id": "f08b1edf-a528-4e21-9cb0-0ae401201279",
   "metadata": {},
   "source": [
    "You use ordinal encoding to preserve order of categorical data i.e. cold, warm, hot; low, medium, high. You use label encoding or one hot for categorical data, where there's no order in data i.e. dog, cat, whale."
   ]
  },
  {
   "cell_type": "code",
   "execution_count": null,
   "id": "00c05739-7238-4d8a-b9b6-08173d2e6ab2",
   "metadata": {},
   "outputs": [],
   "source": []
  },
  {
   "cell_type": "raw",
   "id": "90161c44-be9f-443a-8659-39309fad2591",
   "metadata": {},
   "source": [
    "Q2. Explain how Target Guided Ordinal Encoding works and provide an example of when you might use it in\n",
    "a machine learning project."
   ]
  },
  {
   "cell_type": "markdown",
   "id": "8717d127-37f9-4c18-bddb-5a5f87de7863",
   "metadata": {},
   "source": [
    "Target Guided Ordinal Encoding is a technique used to encode categorical variables based on the relationship between the categorical variable and the target variable in a way that captures the target's behavior within each category"
   ]
  },
  {
   "cell_type": "markdown",
   "id": "1bb01e58-715b-44b4-b4f0-48a2d13fb907",
   "metadata": {},
   "source": [
    "target guided ordinal encodeing works  :\n"
   ]
  },
  {
   "cell_type": "markdown",
   "id": "dd67fd07-271a-4de3-817f-e18019b722c3",
   "metadata": {},
   "source": [
    "1. Calculate the mean of the target for each category \n",
    "2. Order the categories by mean Target value \n",
    "3. assign Ordenial Labels \n",
    "4. ReplaceOriganl Categorical values with Ordinal Labels \n"
   ]
  },
  {
   "cell_type": "code",
   "execution_count": null,
   "id": "1d74f0d3-67ed-4817-87c3-b8028f4a92af",
   "metadata": {},
   "outputs": [],
   "source": []
  },
  {
   "cell_type": "raw",
   "id": "273a0a66-6a39-4212-9397-194577a5f1bb",
   "metadata": {},
   "source": [
    "Q3. Define covariance and explain why it is important in statistical analysis. How is covariance calculated?"
   ]
  },
  {
   "cell_type": "markdown",
   "id": "fd5e8508-f5be-418b-9bff-1f21ce165999",
   "metadata": {},
   "source": [
    "Covariance is a statistical measure that quantifies the degree to which two random variables change together. In other words, it indicates the relationship between the movements or changes in two variables. It provides insight into whether an increase (or decrease) in one variable corresponds to an increase (or decrease) in the other variable, and the magnitude and direction of this relationship."
   ]
  },
  {
   "cell_type": "markdown",
   "id": "7b13a24b-7680-426d-9066-b46f69d14532",
   "metadata": {},
   "source": [
    "Covariance is important in statistical analysis for several reasons:"
   ]
  },
  {
   "cell_type": "markdown",
   "id": "7f40a7ab-b33d-4c3c-a2b7-17f65f2c3b2f",
   "metadata": {},
   "source": [
    "1. Realatioship Indentification \n",
    "2. Portfolio Diversification \n",
    "3. Regression Analysis\n",
    "4. Multivariate Analysis\n",
    "5. Risk Assessment "
   ]
  },
  {
   "cell_type": "markdown",
   "id": "b1324f43-7e9f-40f9-92ca-37822143fd89",
   "metadata": {},
   "source": [
    "Covariance is calculated using the following formula:\n"
   ]
  },
  {
   "cell_type": "markdown",
   "id": "9ee4abb6-1d4e-459e-a9b4-ecabac9f29ce",
   "metadata": {},
   "source": [
    "Cov (x,y ) = 1/n ∑ (Xi - Xwar)(Yi-Ywar)"
   ]
  },
  {
   "cell_type": "code",
   "execution_count": null,
   "id": "2ce60634-a900-4fd5-bb1a-0abb97a7dd1a",
   "metadata": {},
   "outputs": [],
   "source": []
  },
  {
   "cell_type": "raw",
   "id": "adae3b2a-af7e-4b3e-821c-ca1db5559d4e",
   "metadata": {},
   "source": [
    "Q4. For a dataset with the following categorical variables: Color (red, green, blue), Size (small, medium,\n",
    "large), and Material (wood, metal, plastic), perform label encoding using Python's scikit-learn library.\n",
    "Show your code and explain the output."
   ]
  },
  {
   "cell_type": "markdown",
   "id": "c4c45253-13db-45db-b852-fb69a78dff12",
   "metadata": {},
   "source": [
    "LabelEncoder is typically used for target varible encodeing rather than feachure encodeing "
   ]
  },
  {
   "cell_type": "code",
   "execution_count": 25,
   "id": "cd8e80e4-5c0a-4af3-87c4-285cfac3ddb7",
   "metadata": {},
   "outputs": [
    {
     "name": "stdout",
     "output_type": "stream",
     "text": [
      "Encoded 1: [2 1 0 1 0]\n",
      "Encoded 2: [2 1 0 2 1]\n",
      "Encoded 3: [2 0 1 0 2]\n"
     ]
    }
   ],
   "source": [
    "from sklearn.preprocessing import LabelEncoder\n",
    "data = [\n",
    "    ['red', 'small', 'wood'],\n",
    "    ['green', 'medium', 'metal'],\n",
    "    ['blue', 'large', 'plastic'],\n",
    "    ['green', 'small', 'metal'],\n",
    "    ['blue', 'medium', 'wood'],\n",
    "]\n",
    "# Transpose the data for easy encoding of each feature\n",
    "data = list(map(list, zip(*data)))\n",
    "\n",
    "# Initialize label encoders\n",
    "label_encoders = [LabelEncoder() for _ in data]\n",
    "\n",
    "# Perform label encoding\n",
    "encoded_data = [encoder.fit_transform(column) for encoder, column in zip(label_encoders, data)]\n",
    "\n",
    "# Print encoded data\n",
    "for i, column in enumerate(encoded_data):\n",
    "    print(f\"Encoded {i+1}:\", column)"
   ]
  },
  {
   "cell_type": "code",
   "execution_count": null,
   "id": "2fd7eda1-a527-4905-89da-d9be14317cab",
   "metadata": {},
   "outputs": [],
   "source": []
  },
  {
   "cell_type": "raw",
   "id": "dc8df6ce-926e-43eb-b058-749db7892672",
   "metadata": {},
   "source": [
    "Q5. Calculate the covariance matrix for the following variables in a dataset: Age, Income, and Education\n",
    "level. Interpret the results."
   ]
  },
  {
   "cell_type": "code",
   "execution_count": 26,
   "id": "f87638a8-cfca-4f32-adc0-9ad876baf923",
   "metadata": {},
   "outputs": [],
   "source": [
    "import numpy as np"
   ]
  },
  {
   "cell_type": "code",
   "execution_count": 30,
   "id": "12eb912f-2291-48ea-b812-fe082d75ca75",
   "metadata": {},
   "outputs": [],
   "source": [
    "age = [10,15,20,23,26]\n",
    "income = [100,200,300,500,1000]\n",
    "education_level = [5,6,8,10,11]"
   ]
  },
  {
   "cell_type": "code",
   "execution_count": 31,
   "id": "b929dba6-9ff6-4a1c-acb4-738c915184dc",
   "metadata": {},
   "outputs": [],
   "source": [
    "data = np.stack((age,income,education_level), axis = 0)"
   ]
  },
  {
   "cell_type": "code",
   "execution_count": 32,
   "id": "8fb8556b-d393-4798-aa8f-5ddd361fcdc3",
   "metadata": {},
   "outputs": [],
   "source": [
    "covariance_matrix = np.cov(data)"
   ]
  },
  {
   "cell_type": "code",
   "execution_count": 33,
   "id": "f50c958b-22e2-4f65-8583-7f9f1dc5dc0a",
   "metadata": {},
   "outputs": [
    {
     "data": {
      "text/plain": [
       "array([[4.070e+01, 2.005e+03, 1.600e+01],\n",
       "       [2.005e+03, 1.270e+05, 8.250e+02],\n",
       "       [1.600e+01, 8.250e+02, 6.500e+00]])"
      ]
     },
     "execution_count": 33,
     "metadata": {},
     "output_type": "execute_result"
    }
   ],
   "source": [
    "covariance_matrix "
   ]
  },
  {
   "cell_type": "code",
   "execution_count": null,
   "id": "45e32d5e-9161-47ce-b074-4062efea0379",
   "metadata": {},
   "outputs": [],
   "source": []
  },
  {
   "cell_type": "code",
   "execution_count": null,
   "id": "d115be66-6e6e-4756-996c-2c4f01413249",
   "metadata": {},
   "outputs": [],
   "source": []
  },
  {
   "cell_type": "raw",
   "id": "c6b818f7-4660-4215-a406-3f376640abf1",
   "metadata": {},
   "source": [
    "Q6. You are working on a machine learning project with a dataset containing several categorical\n",
    "variables, including \"Gender\" (Male/Female), \"Education Level\" (High School/Bachelor's/Master's/PhD),\n",
    "and \"Employment Status\" (Unemployed/Part-Time/Full-Time). Which encoding method would you use for\n",
    "each variable, and why?"
   ]
  },
  {
   "cell_type": "markdown",
   "id": "00c4e57a-12b9-46ba-b5b1-4322afd103c9",
   "metadata": {},
   "source": [
    "1. Gender : gender is a nominal categorical varible with no inherent order or rankimg One Hot encodeing "
   ]
  },
  {
   "cell_type": "markdown",
   "id": "4c4bd1b0-0dc6-4258-a21a-4c40f2b22b02",
   "metadata": {},
   "source": [
    "2. Education level :  education level is a ordinal categorical varible is clear andmeaning ful order so this is Ordinalencoding "
   ]
  },
  {
   "cell_type": "markdown",
   "id": "4d2f7014-404e-4469-bc95-f5241c0223d2",
   "metadata": {},
   "source": [
    "3.Employed status : \"Education Level,\" \"Employment Status\" is also an ordinal categorical variable with a meaningful order.\n",
    "i canj apply ordinal encodeing or label encodeing "
   ]
  },
  {
   "cell_type": "code",
   "execution_count": null,
   "id": "9488fe6b-5d9c-4144-ba16-e8054cc2bdc9",
   "metadata": {},
   "outputs": [],
   "source": []
  },
  {
   "cell_type": "code",
   "execution_count": null,
   "id": "fce8bced-2a4a-4144-a015-0700eced6dd0",
   "metadata": {},
   "outputs": [],
   "source": []
  },
  {
   "cell_type": "raw",
   "id": "287f6340-7e38-42c4-9f24-83c5f6ea5e10",
   "metadata": {},
   "source": [
    "Q7. You are analyzing a dataset with two continuous variables, \"Temperature\" and \"Humidity\", and two\n",
    "categorical variables, \"Weather Condition\" (Sunny/Cloudy/Rainy) and \"Wind Direction\" (North/South/\n",
    "East/West). Calculate the covariance between each pair of variables and interpret the results."
   ]
  },
  {
   "cell_type": "code",
   "execution_count": null,
   "id": "76945e78-55af-498a-9b79-5443cdca8409",
   "metadata": {},
   "outputs": [],
   "source": [
    "import numpy as np"
   ]
  },
  {
   "cell_type": "code",
   "execution_count": null,
   "id": "b34306cf-cea1-4076-b8e9-4c231af41d3d",
   "metadata": {},
   "outputs": [],
   "source": [
    "temperature = [20,23,25,28,30]\n",
    "hu"
   ]
  }
 ],
 "metadata": {
  "kernelspec": {
   "display_name": "Python 3 (ipykernel)",
   "language": "python",
   "name": "python3"
  },
  "language_info": {
   "codemirror_mode": {
    "name": "ipython",
    "version": 3
   },
   "file_extension": ".py",
   "mimetype": "text/x-python",
   "name": "python",
   "nbconvert_exporter": "python",
   "pygments_lexer": "ipython3",
   "version": "3.10.8"
  }
 },
 "nbformat": 4,
 "nbformat_minor": 5
}
